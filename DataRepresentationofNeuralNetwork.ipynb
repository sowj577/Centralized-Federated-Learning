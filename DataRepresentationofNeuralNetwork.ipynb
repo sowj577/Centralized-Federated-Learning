{
  "nbformat": 4,
  "nbformat_minor": 0,
  "metadata": {
    "colab": {
      "provenance": [],
      "authorship_tag": "ABX9TyPwWe4h9yeDUOay9kzvWOfN",
      "include_colab_link": true
    },
    "kernelspec": {
      "name": "python3",
      "display_name": "Python 3"
    },
    "language_info": {
      "name": "python"
    }
  },
  "cells": [
    {
      "cell_type": "markdown",
      "metadata": {
        "id": "view-in-github",
        "colab_type": "text"
      },
      "source": [
        "<a href=\"https://colab.research.google.com/github/sowj577/Centralized-Federated-Learning/blob/main/DataRepresentationofNeuralNetwork.ipynb\" target=\"_parent\"><img src=\"https://colab.research.google.com/assets/colab-badge.svg\" alt=\"Open In Colab\"/></a>"
      ]
    },
    {
      "cell_type": "markdown",
      "source": [
        "All current Machine Learning systems uses **tensors** as their basic data structures. So fundamental is that, Google tensorflow is named after tensors.\n",
        "\n",
        "**Tensor -> Container for data -> Container for numbers.**\n",
        "Because data is almost always numerical data.\n",
        " \n",
        "Tensors are a genralization of matrices to an arbitary number of dimensions( often called as an axis).\n",
        "\n"
      ],
      "metadata": {
        "id": "GRZNxlEG_SP_"
      }
    },
    {
      "cell_type": "code",
      "execution_count": null,
      "metadata": {
        "id": "hFFxRYOt_M1J"
      },
      "outputs": [],
      "source": []
    },
    {
      "cell_type": "markdown",
      "source": [
        "# **Scalar( 0D Tensors)**\n",
        "\n"
      ],
      "metadata": {
        "id": "zTDDwAnsAMy2"
      }
    },
    {
      "cell_type": "markdown",
      "source": [
        "A Tensor that contains only one number is called a Scalar Tensor. \n",
        "\n",
        "**Example: 12;3;4; in Numpy: float32 or float64 numbers;**\n"
      ],
      "metadata": {
        "id": "FyR52I7wAUQ1"
      }
    },
    {
      "cell_type": "code",
      "source": [
        "import numpy as np\n",
        "scalar = np.array(12)\n",
        "scalar"
      ],
      "metadata": {
        "colab": {
          "base_uri": "https://localhost:8080/"
        },
        "id": "1QLZ_FW4A-DU",
        "outputId": "2c3d4841-7e95-436c-9dd6-7e9dab933f37"
      },
      "execution_count": 1,
      "outputs": [
        {
          "output_type": "execute_result",
          "data": {
            "text/plain": [
              "array(12)"
            ]
          },
          "metadata": {},
          "execution_count": 1
        }
      ]
    },
    {
      "cell_type": "markdown",
      "source": [
        "# **Vector( 1D Tensors)**"
      ],
      "metadata": {
        "id": "c5_fyfe-BIIp"
      }
    },
    {
      "cell_type": "markdown",
      "source": [
        "An array of numbers called Vector. It has exactly 1 axis."
      ],
      "metadata": {
        "id": "CoX-Wa7rBVn2"
      }
    },
    {
      "cell_type": "code",
      "source": [
        "vector = np.array([1,2,3,4,5])\n",
        "vector"
      ],
      "metadata": {
        "colab": {
          "base_uri": "https://localhost:8080/"
        },
        "id": "ztTMxSsJBcJA",
        "outputId": "0484255b-f05e-41bc-edbd-5d056f633871"
      },
      "execution_count": 2,
      "outputs": [
        {
          "output_type": "execute_result",
          "data": {
            "text/plain": [
              "array([1, 2, 3, 4, 5])"
            ]
          },
          "metadata": {},
          "execution_count": 2
        }
      ]
    },
    {
      "cell_type": "markdown",
      "source": [
        "The above vector has 5 entries and that one is called **5-dimensional vector**. (not 5D Tensor its just a 5D vector).\n",
        "\n",
        "It has only one axis and 5 dimensions along its axis. "
      ],
      "metadata": {
        "id": "f7GNaIjIBxmk"
      }
    },
    {
      "cell_type": "markdown",
      "source": [
        "# ** Matrices( 2D Tensors) **\n"
      ],
      "metadata": {
        "id": "Bh-mJ-hIBlPP"
      }
    },
    {
      "cell_type": "markdown",
      "source": [
        "An array of vectors is a matrix or 2D tensors. A matrix has 2 axis( rows and columns).  "
      ],
      "metadata": {
        "id": "OEqcltP-Btm2"
      }
    },
    {
      "cell_type": "code",
      "source": [
        "matrix_ex = np.array([[1,2,3,4],\n",
        "                     [4,5,3,2],\n",
        "                     [2,6,8,9]])\n",
        "matrix_ex"
      ],
      "metadata": {
        "colab": {
          "base_uri": "https://localhost:8080/"
        },
        "id": "KWasXvPlEgtO",
        "outputId": "1e8588d4-3a6f-4b5e-91cb-3805154ea51c"
      },
      "execution_count": 5,
      "outputs": [
        {
          "output_type": "execute_result",
          "data": {
            "text/plain": [
              "array([[1, 2, 3, 4],\n",
              "       [4, 5, 3, 2],\n",
              "       [2, 6, 8, 9]])"
            ]
          },
          "metadata": {},
          "execution_count": 5
        }
      ]
    },
    {
      "cell_type": "markdown",
      "source": [
        "# **3D Tensors**"
      ],
      "metadata": {
        "id": "oOu7OV1YIE3m"
      }
    },
    {
      "cell_type": "markdown",
      "source": [
        "array of 2D matrices are called 3D tensors. cube of numbers for visual representation."
      ],
      "metadata": {
        "id": "hGvUCfWZIF4u"
      }
    },
    {
      "cell_type": "code",
      "source": [
        "array1 = [[1,2,3],\n",
        "          [4,5,6]]\n",
        "array2 = [[2,5,6],\n",
        "          [7,8,5]]\n",
        "array3 = [[2,5,6],\n",
        "          [9,8,7]]\n",
        "\n",
        "tensor3D = [array1,array2,array3]\n",
        "\n",
        "tensor3D"
      ],
      "metadata": {
        "colab": {
          "base_uri": "https://localhost:8080/"
        },
        "id": "f9WVCxnwIDSW",
        "outputId": "95913864-c24a-42fd-cdd4-21e437fa8ac5"
      },
      "execution_count": 7,
      "outputs": [
        {
          "output_type": "execute_result",
          "data": {
            "text/plain": [
              "[[[1, 2, 3], [4, 5, 6]], [[2, 5, 6], [7, 8, 5]], [[2, 5, 6], [9, 8, 7]]]"
            ]
          },
          "metadata": {},
          "execution_count": 7
        }
      ]
    },
    {
      "cell_type": "markdown",
      "source": [
        "By creating 3D tensors in an array, we can create 4D tensors and so on...,\n",
        "\n",
        "we may go upto 5D tensors if you process video data."
      ],
      "metadata": {
        "id": "l-Ly_5MEErYw"
      }
    },
    {
      "cell_type": "markdown",
      "source": [
        "# **Miscellaneous**\n",
        "Dimensionality can denote either \n",
        "\n",
        ">> The number of entries along a specific axis(In case of vector example, its 5D Vector).\n",
        "\n",
        "or\n",
        "\n",
        ">> The number of axis in a tensor( such as 5D tensor).\n"
      ],
      "metadata": {
        "id": "JBaGU3bnCRg2"
      }
    }
  ]
}